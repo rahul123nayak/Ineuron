{
 "cells": [
  {
   "cell_type": "code",
   "execution_count": 21,
   "id": "7183ace9",
   "metadata": {},
   "outputs": [
    {
     "name": "stdout",
     "output_type": "stream",
     "text": [
      "\n",
      "*\n",
      "**\n",
      "***\n",
      "****\n",
      "*****\n",
      "****\n",
      "***\n",
      "**\n",
      "*\n"
     ]
    }
   ],
   "source": [
    "# Python asssignment 2; Question 1#\n",
    "\n",
    "for i in range(0,6):\n",
    "    print('*'* i)\n",
    "\n",
    "for j in range(4,0,-1):\n",
    "    print('*'* j)\n",
    "    \n"
   ]
  },
  {
   "cell_type": "code",
   "execution_count": 25,
   "id": "c902b74b",
   "metadata": {},
   "outputs": [
    {
     "name": "stdout",
     "output_type": "stream",
     "text": [
      "enter a word: ineuron\n",
      " Input word:  ineuron\n",
      "Output:  norueni\n"
     ]
    }
   ],
   "source": [
    "# Python assignment 2; Question 2#\n",
    "\n",
    "word = input(\"enter a word: \")\n",
    "print(\" Input word: \",word)\n",
    "rev_word = word[::-1]\n",
    "print(\"Output: \", rev_word)"
   ]
  },
  {
   "cell_type": "code",
   "execution_count": null,
   "id": "74b67b5b",
   "metadata": {},
   "outputs": [],
   "source": []
  },
  {
   "cell_type": "code",
   "execution_count": null,
   "id": "b8568b88",
   "metadata": {},
   "outputs": [],
   "source": []
  }
 ],
 "metadata": {
  "kernelspec": {
   "display_name": "Python 3",
   "language": "python",
   "name": "python3"
  },
  "language_info": {
   "codemirror_mode": {
    "name": "ipython",
    "version": 3
   },
   "file_extension": ".py",
   "mimetype": "text/x-python",
   "name": "python",
   "nbconvert_exporter": "python",
   "pygments_lexer": "ipython3",
   "version": "3.8.8"
  }
 },
 "nbformat": 4,
 "nbformat_minor": 5
}
